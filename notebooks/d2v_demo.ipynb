{
 "cells": [
  {
   "cell_type": "code",
   "execution_count": 1,
   "metadata": {},
   "outputs": [],
   "source": [
    "import pandas as pd\n",
    "from gensim.models.doc2vec import Doc2Vec, TaggedDocument"
   ]
  },
  {
   "cell_type": "code",
   "execution_count": 2,
   "metadata": {},
   "outputs": [],
   "source": [
    "file_path = '../data/sample_data.csv'\n",
    "df = pd.read_csv(file_path, names=['tag', 'stream'])\n",
    "df['tag'] = df['tag'].apply(lambda tag: str(tag))\n",
    "df['stream'] = df['stream'].apply(lambda stream: [str(el) for el in eval(stream)])"
   ]
  },
  {
   "cell_type": "code",
   "execution_count": 3,
   "metadata": {},
   "outputs": [
    {
     "data": {
      "text/html": [
       "<div>\n",
       "<style scoped>\n",
       "    .dataframe tbody tr th:only-of-type {\n",
       "        vertical-align: middle;\n",
       "    }\n",
       "\n",
       "    .dataframe tbody tr th {\n",
       "        vertical-align: top;\n",
       "    }\n",
       "\n",
       "    .dataframe thead th {\n",
       "        text-align: right;\n",
       "    }\n",
       "</style>\n",
       "<table border=\"1\" class=\"dataframe\">\n",
       "  <thead>\n",
       "    <tr style=\"text-align: right;\">\n",
       "      <th></th>\n",
       "      <th>tag</th>\n",
       "      <th>stream</th>\n",
       "    </tr>\n",
       "  </thead>\n",
       "  <tbody>\n",
       "    <tr>\n",
       "      <th>0</th>\n",
       "      <td>677994</td>\n",
       "      <td>[219345042, 172703514, 184153266, 56192185, 52...</td>\n",
       "    </tr>\n",
       "    <tr>\n",
       "      <th>1</th>\n",
       "      <td>767275</td>\n",
       "      <td>[96570421, 26516210, 50903853, 26516210, 27729...</td>\n",
       "    </tr>\n",
       "    <tr>\n",
       "      <th>2</th>\n",
       "      <td>786423</td>\n",
       "      <td>[187228547, 2791348, 35155700, 2791348, 351557...</td>\n",
       "    </tr>\n",
       "  </tbody>\n",
       "</table>\n",
       "</div>"
      ],
      "text/plain": [
       "      tag                                             stream\n",
       "0  677994  [219345042, 172703514, 184153266, 56192185, 52...\n",
       "1  767275  [96570421, 26516210, 50903853, 26516210, 27729...\n",
       "2  786423  [187228547, 2791348, 35155700, 2791348, 351557..."
      ]
     },
     "execution_count": 3,
     "metadata": {},
     "output_type": "execute_result"
    }
   ],
   "source": [
    "df.head(3)"
   ]
  },
  {
   "cell_type": "code",
   "execution_count": 4,
   "metadata": {},
   "outputs": [],
   "source": [
    "tagged_streams = [TaggedDocument(stream, [tag]) \n",
    "                  for tag, stream in zip(list(df['tag']), list(df['stream']))]"
   ]
  },
  {
   "cell_type": "code",
   "execution_count": 5,
   "metadata": {},
   "outputs": [],
   "source": [
    "d2v_model = Doc2Vec(min_count=2, window=5, vector_size=20, negative=10)"
   ]
  },
  {
   "cell_type": "code",
   "execution_count": 6,
   "metadata": {},
   "outputs": [],
   "source": [
    "d2v_model.build_vocab(tagged_streams)"
   ]
  },
  {
   "cell_type": "code",
   "execution_count": 7,
   "metadata": {},
   "outputs": [],
   "source": [
    "d2v_model.train(tagged_streams, total_examples=d2v_model.corpus_count, epochs=10)"
   ]
  },
  {
   "cell_type": "code",
   "execution_count": 8,
   "metadata": {},
   "outputs": [],
   "source": [
    "item_ls = list(d2v_model.wv.vocab.keys())\n",
    "tag_ls = d2v_model.docvecs.offset2doctag"
   ]
  },
  {
   "cell_type": "code",
   "execution_count": 9,
   "metadata": {},
   "outputs": [],
   "source": [
    "item_vector_ls = [d2v_model[item] for item in item_ls]\n",
    "tag_vector_ls = [d2v_model.docvecs[tag_vect] for tag_vect in tag_ls]"
   ]
  },
  {
   "cell_type": "code",
   "execution_count": 10,
   "metadata": {},
   "outputs": [
    {
     "name": "stdout",
     "output_type": "stream",
     "text": [
      "219345042\n",
      "[-0.0742339  -0.12586804  0.08359013  0.09034809 -0.08349745  0.07337275\n",
      " -0.07524972 -0.09148164 -0.12087134  0.0206519   0.05848644  0.09821636\n",
      "  0.1508229  -0.01416148  0.04112372 -0.19746023  0.18479979 -0.26356727\n",
      "  0.18457434 -0.09817024]\n"
     ]
    }
   ],
   "source": [
    "print(item_ls[0])\n",
    "print(item_vector_ls[0])"
   ]
  },
  {
   "cell_type": "code",
   "execution_count": 11,
   "metadata": {},
   "outputs": [
    {
     "name": "stdout",
     "output_type": "stream",
     "text": [
      "677994\n",
      "[-0.11369688 -0.05950478  0.0398097  -0.01716676 -0.06169825  0.00452367\n",
      " -0.14815478 -0.02888036 -0.13193044  0.17540617  0.05593718 -0.00615822\n",
      "  0.08046817  0.03173517  0.01369269 -0.079005    0.06315599 -0.2667811\n",
      "  0.2152862   0.10919552]\n"
     ]
    }
   ],
   "source": [
    "print(tag_ls[0])\n",
    "print(tag_vector_ls[0])"
   ]
  },
  {
   "cell_type": "code",
   "execution_count": null,
   "metadata": {},
   "outputs": [],
   "source": []
  }
 ],
 "metadata": {
  "kernelspec": {
   "display_name": "Python 3",
   "language": "python",
   "name": "python3"
  },
  "language_info": {
   "codemirror_mode": {
    "name": "ipython",
    "version": 3
   },
   "file_extension": ".py",
   "mimetype": "text/x-python",
   "name": "python",
   "nbconvert_exporter": "python",
   "pygments_lexer": "ipython3",
   "version": "3.6.8"
  }
 },
 "nbformat": 4,
 "nbformat_minor": 2
}
