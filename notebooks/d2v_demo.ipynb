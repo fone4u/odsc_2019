{
 "cells": [
  {
   "cell_type": "markdown",
   "metadata": {},
   "source": [
    "## Demo-ing Doc2vec"
   ]
  },
  {
   "cell_type": "markdown",
   "metadata": {},
   "source": [
    "### Imports"
   ]
  },
  {
   "cell_type": "code",
   "execution_count": 1,
   "metadata": {},
   "outputs": [],
   "source": [
    "import pandas as pd\n",
    "from gensim.models.doc2vec import Doc2Vec, TaggedDocument"
   ]
  },
  {
   "cell_type": "markdown",
   "metadata": {},
   "source": [
    "### Loading data"
   ]
  },
  {
   "cell_type": "code",
   "execution_count": 2,
   "metadata": {},
   "outputs": [],
   "source": [
    "file_path = '../data/sample_data.csv'\n",
    "df = pd.read_csv(file_path, names=['tag', 'stream'])"
   ]
  },
  {
   "cell_type": "markdown",
   "metadata": {},
   "source": [
    "#### Manipulating input dataset"
   ]
  },
  {
   "cell_type": "code",
   "execution_count": 3,
   "metadata": {},
   "outputs": [],
   "source": [
    "# Casting integer to string\n",
    "df['tag'] = df['tag'].apply(lambda tag: str(tag))\n",
    "# Loading input string and casting each element as string\n",
    "df['stream'] = df['stream'].apply(lambda stream: [str(el) for el in eval(stream)])"
   ]
  },
  {
   "cell_type": "code",
   "execution_count": 4,
   "metadata": {},
   "outputs": [
    {
     "data": {
      "text/html": [
       "<div>\n",
       "<style scoped>\n",
       "    .dataframe tbody tr th:only-of-type {\n",
       "        vertical-align: middle;\n",
       "    }\n",
       "\n",
       "    .dataframe tbody tr th {\n",
       "        vertical-align: top;\n",
       "    }\n",
       "\n",
       "    .dataframe thead th {\n",
       "        text-align: right;\n",
       "    }\n",
       "</style>\n",
       "<table border=\"1\" class=\"dataframe\">\n",
       "  <thead>\n",
       "    <tr style=\"text-align: right;\">\n",
       "      <th></th>\n",
       "      <th>tag</th>\n",
       "      <th>stream</th>\n",
       "    </tr>\n",
       "  </thead>\n",
       "  <tbody>\n",
       "    <tr>\n",
       "      <th>0</th>\n",
       "      <td>677994</td>\n",
       "      <td>[219345042, 172703514, 184153266, 56192185, 52...</td>\n",
       "    </tr>\n",
       "    <tr>\n",
       "      <th>1</th>\n",
       "      <td>767275</td>\n",
       "      <td>[96570421, 26516210, 50903853, 26516210, 27729...</td>\n",
       "    </tr>\n",
       "    <tr>\n",
       "      <th>2</th>\n",
       "      <td>786423</td>\n",
       "      <td>[187228547, 2791348, 35155700, 2791348, 351557...</td>\n",
       "    </tr>\n",
       "  </tbody>\n",
       "</table>\n",
       "</div>"
      ],
      "text/plain": [
       "      tag                                             stream\n",
       "0  677994  [219345042, 172703514, 184153266, 56192185, 52...\n",
       "1  767275  [96570421, 26516210, 50903853, 26516210, 27729...\n",
       "2  786423  [187228547, 2791348, 35155700, 2791348, 351557..."
      ]
     },
     "execution_count": 4,
     "metadata": {},
     "output_type": "execute_result"
    }
   ],
   "source": [
    "# Visualizing input dataframe\n",
    "df.head(3)"
   ]
  },
  {
   "cell_type": "markdown",
   "metadata": {},
   "source": [
    "### Preparing training data"
   ]
  },
  {
   "cell_type": "code",
   "execution_count": 5,
   "metadata": {},
   "outputs": [],
   "source": [
    "# Tagging each stream\n",
    "tagged_streams = [TaggedDocument(stream, [tag]) \n",
    "                  for tag, stream in zip(list(df['tag']), list(df['stream']))]"
   ]
  },
  {
   "cell_type": "markdown",
   "metadata": {},
   "source": [
    "### Defining the model"
   ]
  },
  {
   "cell_type": "code",
   "execution_count": 6,
   "metadata": {},
   "outputs": [],
   "source": [
    "# Initializing the model\n",
    "d2v_model = Doc2Vec(min_count=2, window=5, vector_size=20, negative=10)"
   ]
  },
  {
   "cell_type": "code",
   "execution_count": 7,
   "metadata": {},
   "outputs": [],
   "source": [
    "# Inizializing the vocabulary\n",
    "d2v_model.build_vocab(tagged_streams)"
   ]
  },
  {
   "cell_type": "markdown",
   "metadata": {},
   "source": [
    "### Training"
   ]
  },
  {
   "cell_type": "code",
   "execution_count": 8,
   "metadata": {},
   "outputs": [],
   "source": [
    "d2v_model.train(tagged_streams, total_examples=d2v_model.corpus_count, epochs=10)"
   ]
  },
  {
   "cell_type": "markdown",
   "metadata": {},
   "source": [
    "### Extracting output"
   ]
  },
  {
   "cell_type": "code",
   "execution_count": 9,
   "metadata": {},
   "outputs": [],
   "source": [
    "# Extracting list of items\n",
    "item_ls = list(d2v_model.wv.vocab.keys())\n",
    "\n",
    "# Extracting list of tags\n",
    "tag_ls = d2v_model.docvecs.offset2doctag"
   ]
  },
  {
   "cell_type": "code",
   "execution_count": 10,
   "metadata": {},
   "outputs": [],
   "source": [
    "# Retrieving embedding for each item\n",
    "item_vector_ls = [d2v_model[item] for item in item_ls]\n",
    "\n",
    "# Retrieving embedding for each tag\n",
    "tag_vector_ls = [d2v_model.docvecs[tag_vect] for tag_vect in tag_ls]"
   ]
  },
  {
   "cell_type": "code",
   "execution_count": 11,
   "metadata": {},
   "outputs": [
    {
     "name": "stdout",
     "output_type": "stream",
     "text": [
      "219345042\n",
      "[-0.16691333  0.01391616  0.08182272  0.22406493 -0.13018888 -0.08907364\n",
      " -0.06540466  0.13903038  0.00235399 -0.0282561  -0.07210001  0.18075605\n",
      " -0.06638259  0.04872734 -0.30388135  0.17403638 -0.03945316  0.07126762\n",
      "  0.03873265 -0.07725172]\n"
     ]
    }
   ],
   "source": [
    "# Printing a sample item and its embedding\n",
    "print(item_ls[0])\n",
    "print(item_vector_ls[0])"
   ]
  },
  {
   "cell_type": "code",
   "execution_count": 12,
   "metadata": {},
   "outputs": [
    {
     "name": "stdout",
     "output_type": "stream",
     "text": [
      "677994\n",
      "[-0.03200712 -0.06808201  0.09429213  0.20017318 -0.1556576   0.08129843\n",
      "  0.01421014  0.02463668 -0.09386549  0.03395402  0.13053413  0.16646215\n",
      " -0.01707764  0.06892715 -0.35897225  0.20359874 -0.12954955  0.11253071\n",
      "  0.01763733  0.10113616]\n"
     ]
    }
   ],
   "source": [
    "# Printing a sample tag and its embedding\n",
    "print(tag_ls[0])\n",
    "print(tag_vector_ls[0])"
   ]
  }
 ],
 "metadata": {
  "kernelspec": {
   "display_name": "Python 3",
   "language": "python",
   "name": "python3"
  },
  "language_info": {
   "codemirror_mode": {
    "name": "ipython",
    "version": 3
   },
   "file_extension": ".py",
   "mimetype": "text/x-python",
   "name": "python",
   "nbconvert_exporter": "python",
   "pygments_lexer": "ipython3",
   "version": "3.6.8"
  }
 },
 "nbformat": 4,
 "nbformat_minor": 2
}
